{
 "cells": [
  {
   "cell_type": "code",
   "execution_count": 53,
   "id": "abad7d7c-48a2-43cd-b274-fe33c7b66f07",
   "metadata": {},
   "outputs": [
    {
     "name": "stdout",
     "output_type": "stream",
     "text": [
      "              business_id                      name  \\\n",
      "0  Pns2l4eNsfO8kk83dixA6A  Abby Rappoport, LAC, CMQ   \n",
      "1  mpf3x-BjTdTEA3yCZrAYPw             The UPS Store   \n",
      "2  tUFrWirKiKi_TAnsVWINQQ                    Target   \n",
      "3  MTSW4McQd7CbVtyjqoe9mw        St Honore Pastries   \n",
      "4  mWMc6_wTdE0EUBKIGXDVfA  Perkiomen Valley Brewery   \n",
      "\n",
      "                           address           city state postal_code  \\\n",
      "0           1616 Chapala St, Ste 2  Santa Barbara    CA       93101   \n",
      "1  87 Grasso Plaza Shopping Center         Affton    MO       63123   \n",
      "2             5255 E Broadway Blvd         Tucson    AZ       85711   \n",
      "3                      935 Race St   Philadelphia    PA       19107   \n",
      "4                    101 Walnut St     Green Lane    PA       18054   \n",
      "\n",
      "    latitude   longitude  stars  review_count  is_open  \\\n",
      "0  34.426679 -119.711197    5.0             7        0   \n",
      "1  38.551126  -90.335695    3.0            15        1   \n",
      "2  32.223236 -110.880452    3.5            22        0   \n",
      "3  39.955505  -75.155564    4.0            80        1   \n",
      "4  40.338183  -75.471659    4.5            13        1   \n",
      "\n",
      "                                          attributes  \\\n",
      "0                      {'ByAppointmentOnly': 'True'}   \n",
      "1             {'BusinessAcceptsCreditCards': 'True'}   \n",
      "2  {'BikeParking': 'True', 'BusinessAcceptsCredit...   \n",
      "3  {'RestaurantsDelivery': 'False', 'OutdoorSeati...   \n",
      "4  {'BusinessAcceptsCreditCards': 'True', 'Wheelc...   \n",
      "\n",
      "                                          categories  \\\n",
      "0  Doctors, Traditional Chinese Medicine, Naturop...   \n",
      "1  Shipping Centers, Local Services, Notaries, Ma...   \n",
      "2  Department Stores, Shopping, Fashion, Home & G...   \n",
      "3  Restaurants, Food, Bubble Tea, Coffee & Tea, B...   \n",
      "4                          Brewpubs, Breweries, Food   \n",
      "\n",
      "                                               hours  \n",
      "0                                               None  \n",
      "1  {'Monday': '0:0-0:0', 'Tuesday': '8:0-18:30', ...  \n",
      "2  {'Monday': '8:0-22:0', 'Tuesday': '8:0-22:0', ...  \n",
      "3  {'Monday': '7:0-20:0', 'Tuesday': '7:0-20:0', ...  \n",
      "4  {'Wednesday': '14:0-22:0', 'Thursday': '16:0-2...  \n"
     ]
    }
   ],
   "source": [
    "import pandas as pd\n",
    "\n",
    "# Path to your Yelp dataset file\n",
    "file_path = '../data/yelp_dataset/yelp_academic_dataset_business.json'\n",
    "\n",
    "# Load the JSON Lines file into a Pandas DataFrame\n",
    "df = pd.read_json(file_path, lines=True)\n",
    "\n",
    "# Display the first few rows\n",
    "print(df.head())"
   ]
  },
  {
   "cell_type": "code",
   "execution_count": 54,
   "id": "8b5854ed-a72a-4e14-b9a0-99a9d9ca7213",
   "metadata": {
    "scrolled": true
   },
   "outputs": [
    {
     "name": "stdout",
     "output_type": "stream",
     "text": [
      "Index(['business_id', 'name', 'address', 'city', 'state', 'postal_code',\n",
      "       'latitude', 'longitude', 'stars', 'review_count', 'is_open',\n",
      "       'attributes', 'categories', 'hours'],\n",
      "      dtype='object')\n",
      "<class 'pandas.core.frame.DataFrame'>\n",
      "RangeIndex: 150346 entries, 0 to 150345\n",
      "Data columns (total 14 columns):\n",
      " #   Column        Non-Null Count   Dtype  \n",
      "---  ------        --------------   -----  \n",
      " 0   business_id   150346 non-null  object \n",
      " 1   name          150346 non-null  object \n",
      " 2   address       150346 non-null  object \n",
      " 3   city          150346 non-null  object \n",
      " 4   state         150346 non-null  object \n",
      " 5   postal_code   150346 non-null  object \n",
      " 6   latitude      150346 non-null  float64\n",
      " 7   longitude     150346 non-null  float64\n",
      " 8   stars         150346 non-null  float64\n",
      " 9   review_count  150346 non-null  int64  \n",
      " 10  is_open       150346 non-null  int64  \n",
      " 11  attributes    136602 non-null  object \n",
      " 12  categories    150243 non-null  object \n",
      " 13  hours         127123 non-null  object \n",
      "dtypes: float64(3), int64(2), object(9)\n",
      "memory usage: 16.1+ MB\n",
      "None\n",
      "            latitude      longitude          stars   review_count  \\\n",
      "count  150346.000000  150346.000000  150346.000000  150346.000000   \n",
      "mean       36.671150     -89.357339       3.596724      44.866561   \n",
      "std         5.872759      14.918502       0.974421     121.120136   \n",
      "min        27.555127    -120.095137       1.000000       5.000000   \n",
      "25%        32.187293     -90.357810       3.000000       8.000000   \n",
      "50%        38.777413     -86.121179       3.500000      15.000000   \n",
      "75%        39.954036     -75.421542       4.500000      37.000000   \n",
      "max        53.679197     -73.200457       5.000000    7568.000000   \n",
      "\n",
      "            is_open  \n",
      "count  150346.00000  \n",
      "mean        0.79615  \n",
      "std         0.40286  \n",
      "min         0.00000  \n",
      "25%         1.00000  \n",
      "50%         1.00000  \n",
      "75%         1.00000  \n",
      "max         1.00000  \n"
     ]
    }
   ],
   "source": [
    "# Check the column names\n",
    "print(df.columns)\n",
    "\n",
    "# Get basic information about the dataset\n",
    "print(df.info())\n",
    "\n",
    "# View summary statistics for numerical columns\n",
    "print(df.describe())\n"
   ]
  },
  {
   "cell_type": "code",
   "execution_count": 60,
   "id": "5ad57540-2d9a-4d30-85b2-813b36b51c43",
   "metadata": {
    "scrolled": true
   },
   "outputs": [
    {
     "name": "stdout",
     "output_type": "stream",
     "text": [
      "                business_id                                  name  \\\n",
      "42   lwItZ1Ck3KtpCgG4CPFmpQ         Stomel Elliot Attorney-At-Law   \n",
      "73   8rb-3VYXE37IZix4yOdskw           Sharky's Sports Bar & Grill   \n",
      "83   NZ_bFJma7brQUfln5h1UAg                   Super Sushi Kyo Hin   \n",
      "88   LhpPSrulqVeTyJeK2xydvQ                 Fresh Fruits & Salads   \n",
      "111  H0NEOp4e3Zu598u6kO3y0g  America's Best Contacts & Eyeglasses   \n",
      "\n",
      "                               address          city state postal_code  \\\n",
      "42                  532 Rte 70 W, Fl 2   Cherry Hill    NJ       08002   \n",
      "73              820 N Black Horse Pike  Williamstown    NJ       08094   \n",
      "83                2501 Mt Holly Rd 245    Burlington    NJ       08016   \n",
      "88                        114 N 3rd St        Camden    NJ       08102   \n",
      "111  79 Route 73, Ste 6, Coopers Plaza      Voorhees    NJ       08043   \n",
      "\n",
      "      latitude  longitude  stars  review_count  is_open  \\\n",
      "42   39.915478 -75.016973    5.0             5        1   \n",
      "73   39.696801 -74.999821    2.5            29        1   \n",
      "83   40.041629 -74.825821    3.5             6        0   \n",
      "88   39.946690 -75.123327    4.5             6        1   \n",
      "111  39.824552 -74.929032    3.5            17        1   \n",
      "\n",
      "                                            attributes  \\\n",
      "42                                                None   \n",
      "73   {'Alcohol': 'u'full_bar'', 'RestaurantsGoodFor...   \n",
      "83   {'RestaurantsReservations': 'True', 'Restauran...   \n",
      "88   {'BusinessParking': '{'garage': False, 'street...   \n",
      "111  {'BusinessAcceptsCreditCards': 'True', 'ByAppo...   \n",
      "\n",
      "                                            categories  \\\n",
      "42   DUI Law, Professional Services, Lawyers, Crimi...   \n",
      "73   American (Traditional), Bars, Nightlife, Sport...   \n",
      "83     Restaurants, Japanese, Sushi Bars, Asian Fusion   \n",
      "88   Juice Bars & Smoothies, Restaurants, Fruits & ...   \n",
      "111  Eyewear & Opticians, Health & Medical, Shoppin...   \n",
      "\n",
      "                                                 hours  \n",
      "42   {'Monday': '0:0-0:0', 'Tuesday': '0:0-0:0', 'W...  \n",
      "73                                                None  \n",
      "83                                                None  \n",
      "88   {'Monday': '9:0-18:0', 'Tuesday': '9:0-18:0', ...  \n",
      "111  {'Monday': '0:0-0:0', 'Tuesday': '9:0-18:0', '...  \n"
     ]
    }
   ],
   "source": [
    "# Filter businesses located in NYC\n",
    "nj_businesses = df[df['state'] == 'NJ']\n",
    "\n",
    "# Display the first few rows\n",
    "print(nj_businesses.head())\n"
   ]
  },
  {
   "cell_type": "code",
   "execution_count": 61,
   "id": "c5e67c3d-d17a-4431-936d-dbf2562f870e",
   "metadata": {},
   "outputs": [
    {
     "name": "stdout",
     "output_type": "stream",
     "text": [
      "                                     name                            address  \\\n",
      "42          Stomel Elliot Attorney-At-Law                 532 Rte 70 W, Fl 2   \n",
      "73            Sharky's Sports Bar & Grill             820 N Black Horse Pike   \n",
      "83                    Super Sushi Kyo Hin               2501 Mt Holly Rd 245   \n",
      "88                  Fresh Fruits & Salads                       114 N 3rd St   \n",
      "111  America's Best Contacts & Eyeglasses  79 Route 73, Ste 6, Coopers Plaza   \n",
      "\n",
      "             city state postal_code  stars  \\\n",
      "42    Cherry Hill    NJ       08002    5.0   \n",
      "73   Williamstown    NJ       08094    2.5   \n",
      "83     Burlington    NJ       08016    3.5   \n",
      "88         Camden    NJ       08102    4.5   \n",
      "111      Voorhees    NJ       08043    3.5   \n",
      "\n",
      "                                            categories  \n",
      "42   DUI Law, Professional Services, Lawyers, Crimi...  \n",
      "73   American (Traditional), Bars, Nightlife, Sport...  \n",
      "83     Restaurants, Japanese, Sushi Bars, Asian Fusion  \n",
      "88   Juice Bars & Smoothies, Restaurants, Fruits & ...  \n",
      "111  Eyewear & Opticians, Health & Medical, Shoppin...  \n"
     ]
    }
   ],
   "source": [
    "# Select only relevant columns\n",
    "columns_of_interest = ['name', 'address', 'city', 'state', 'postal_code', 'stars', 'categories']\n",
    "nj_subset = nj_businesses[columns_of_interest]\n",
    "\n",
    "# Display the subset\n",
    "print(nj_subset.head())\n"
   ]
  },
  {
   "cell_type": "code",
   "execution_count": 62,
   "id": "e4423150-e882-45dc-83d4-a0798d34dac6",
   "metadata": {},
   "outputs": [
    {
     "name": "stdout",
     "output_type": "stream",
     "text": [
      "categories\n",
      "Restaurants, Pizza             96\n",
      "Beauty & Spas, Nail Salons     85\n",
      "Pizza, Restaurants             79\n",
      "Nail Salons, Beauty & Spas     77\n",
      "Restaurants, Chinese           72\n",
      "Chinese, Restaurants           65\n",
      "Italian, Restaurants           36\n",
      "Restaurants, Italian           33\n",
      "Italian, Restaurants, Pizza    31\n",
      "Food, Beer, Wine & Spirits     28\n",
      "Name: count, dtype: int64\n",
      "categories\n",
      "Home Services, Masonry/Concrete, Stucco Services, Demolition Services             5.0\n",
      "Bars, Food, Nightlife, Beer, Wine & Spirits                                       5.0\n",
      "Barbers, Hair Stylists, Men's Hair Salons, Beauty & Spas, Hair Salons             5.0\n",
      "Pool Halls, Shopping, Sporting Goods, Nightlife                                   5.0\n",
      "Popcorn Shops, Food, Specialty Food                                               5.0\n",
      "Chocolatiers & Shops, Food, Candy Stores, Specialty Food                          5.0\n",
      "Health & Medical, Chiropractors, Medical Centers, Massage Therapy, Acupuncture    5.0\n",
      "Asian Fusion, Halal, Italian, Restaurants                                         5.0\n",
      "Chiropractors, Rehabilitation Center, Health & Medical                            5.0\n",
      "Landscape Architects, Tree Services, Home Services                                5.0\n",
      "Name: stars, dtype: float64\n"
     ]
    }
   ],
   "source": [
    "# Count the number of businesses in each category\n",
    "print(nj_subset['categories'].value_counts().head(10))\n",
    "\n",
    "# Average star rating by category\n",
    "print(nj_subset.groupby('categories')['stars'].mean().sort_values(ascending=False).head(10))\n"
   ]
  },
  {
   "cell_type": "code",
   "execution_count": 80,
   "id": "cbc807bd-17d4-45cb-b6bc-7d9006410342",
   "metadata": {},
   "outputs": [
    {
     "name": "stdout",
     "output_type": "stream",
     "text": [
      "                business_id                         name  \\\n",
      "73   8rb-3VYXE37IZix4yOdskw  Sharky's Sports Bar & Grill   \n",
      "83   NZ_bFJma7brQUfln5h1UAg          Super Sushi Kyo Hin   \n",
      "88   LhpPSrulqVeTyJeK2xydvQ        Fresh Fruits & Salads   \n",
      "129  Cdytv_YhJO0W0Ab8t2xLtg                 Nipper's Pub   \n",
      "167  Ms5xG8i4p80KSMcF3tt4ug     Sal DeForte's Ristorante   \n",
      "\n",
      "                    address          city state postal_code   latitude  \\\n",
      "73   820 N Black Horse Pike  Williamstown    NJ       08094  39.696801   \n",
      "83     2501 Mt Holly Rd 245    Burlington    NJ       08016  40.041629   \n",
      "88             114 N 3rd St        Camden    NJ       08102  39.946690   \n",
      "129          1205 Delsea Dr      Woodbury    NJ       08096  39.844468   \n",
      "167        1400 Parkway Ave         Ewing    NJ       08628  40.266888   \n",
      "\n",
      "     longitude  stars  review_count  is_open  \\\n",
      "73  -74.999821    2.5            29        1   \n",
      "83  -74.825821    3.5             6        0   \n",
      "88  -75.123327    4.5             6        1   \n",
      "129 -75.124870    3.5            29        1   \n",
      "167 -74.805657    4.0            52        1   \n",
      "\n",
      "                                            attributes  \\\n",
      "73   {'Alcohol': 'u'full_bar'', 'RestaurantsGoodFor...   \n",
      "83   {'RestaurantsReservations': 'True', 'Restauran...   \n",
      "88   {'BusinessParking': '{'garage': False, 'street...   \n",
      "129  {'RestaurantsAttire': 'u'casual'', 'NoiseLevel...   \n",
      "167  {'RestaurantsAttire': ''casual'', 'Restaurants...   \n",
      "\n",
      "                                            categories  \\\n",
      "73   American (Traditional), Bars, Nightlife, Sport...   \n",
      "83     Restaurants, Japanese, Sushi Bars, Asian Fusion   \n",
      "88   Juice Bars & Smoothies, Restaurants, Fruits & ...   \n",
      "129  Nightlife, Chicken Wings, Pubs, Bars, American...   \n",
      "167                               Italian, Restaurants   \n",
      "\n",
      "                                                 hours  \n",
      "73                                                None  \n",
      "83                                                None  \n",
      "88   {'Monday': '9:0-18:0', 'Tuesday': '9:0-18:0', ...  \n",
      "129                                               None  \n",
      "167  {'Monday': '16:0-20:0', 'Tuesday': '16:0-20:0'...  \n"
     ]
    }
   ],
   "source": [
    "# Filter for businesses in the state of Illinois (IL)\n",
    "new_jersey_restaurants = df[(df['state'] == 'NJ') & (df['categories'].str.contains('Restaurant', na=False))]\n",
    "\n",
    "# Display the first few rows\n",
    "print(new_jersey_restaurants.head())\n"
   ]
  },
  {
   "cell_type": "code",
   "execution_count": 74,
   "id": "2beef0a8-2e22-4cd3-bcff-6f521ac47cfc",
   "metadata": {
    "scrolled": true
   },
   "outputs": [
    {
     "name": "stdout",
     "output_type": "stream",
     "text": [
      "Number of restaurants in Illinois: 983\n",
      "['Alton' 'Fairview Heights' 'Edwardsville' 'Lebanon' 'Godfrey' 'Mascoutah'\n",
      " 'Glen Carbon' 'Granite City' 'Belleville' 'Waterloo' 'Cahokia' 'Freeburg'\n",
      " 'Swansea' 'Collinsville' 'Maryville' 'Columbia' 'Shiloh' 'Troy'\n",
      " 'O Fallon' 'Wood River' 'Millstadt' 'Dupo' \"O'Fallon\" 'Caseyville'\n",
      " \"O'fallon\" 'Pontoon Beach' 'East Alton' 'Bellville' 'Rosewood Heights'\n",
      " 'Bethalto' 'Fairview Hts.' 'East Saint Louis' 'East St. Louis'\n",
      " 'Scott Air Force Base' 'Smithton' 'Fairview Hts' 'Fairmont City'\n",
      " \"O' Fallon\" 'Scott AFB' 'Scott Afb' 'Cottage Hills' 'East St Louis'\n",
      " 'Sauget' 'Washington Park' 'Madison' 'St. Louis' 'Foster Pond']\n",
      "3.304170905391658\n"
     ]
    }
   ],
   "source": [
    "# Number of restaurants in New \n",
    "print(f\"Number of restaurants in Illinois: {len(illinois_restaurants)}\")\n",
    "\n",
    "# List unique cities in Illinois\n",
    "print(illinois_restaurants['city'].unique())\n",
    "\n",
    "# Average star rating for Illinois restaurants\n",
    "print(illinois_restaurants['stars'].mean())\n"
   ]
  },
  {
   "cell_type": "code",
   "execution_count": 79,
   "id": "8e254fd7-efce-4b37-8ef7-cb9a1dbe522f",
   "metadata": {},
   "outputs": [
    {
     "name": "stdout",
     "output_type": "stream",
     "text": [
      "{'AB',\n",
      " 'AZ',\n",
      " 'CA',\n",
      " 'CO',\n",
      " 'DE',\n",
      " 'FL',\n",
      " 'HI',\n",
      " 'ID',\n",
      " 'IL',\n",
      " 'IN',\n",
      " 'LA',\n",
      " 'MA',\n",
      " 'MI',\n",
      " 'MO',\n",
      " 'MT',\n",
      " 'NC',\n",
      " 'NJ',\n",
      " 'NV',\n",
      " 'PA',\n",
      " 'SD',\n",
      " 'TN',\n",
      " 'TX',\n",
      " 'UT',\n",
      " 'VI',\n",
      " 'VT',\n",
      " 'WA',\n",
      " 'XMS'}\n"
     ]
    }
   ],
   "source": [
    "states = set()\n",
    "for state in df['state']:\n",
    "    states.add(state)\n",
    "pp(states)"
   ]
  },
  {
   "cell_type": "code",
   "execution_count": null,
   "id": "4db86c05-f56d-4077-96a4-dcc23d4ad723",
   "metadata": {},
   "outputs": [],
   "source": []
  }
 ],
 "metadata": {
  "kernelspec": {
   "display_name": "Python 3 (ipykernel)",
   "language": "python",
   "name": "python3"
  },
  "language_info": {
   "codemirror_mode": {
    "name": "ipython",
    "version": 3
   },
   "file_extension": ".py",
   "mimetype": "text/x-python",
   "name": "python",
   "nbconvert_exporter": "python",
   "pygments_lexer": "ipython3",
   "version": "3.10.12"
  }
 },
 "nbformat": 4,
 "nbformat_minor": 5
}
